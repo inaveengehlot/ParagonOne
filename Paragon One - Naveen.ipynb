{
 "cells": [
  {
   "cell_type": "code",
   "execution_count": 1,
   "id": "376bf995",
   "metadata": {},
   "outputs": [],
   "source": [
    "!pip install scattertext spacy requests beautifulsoup4\n",
    "!python -m spacy download en_core_web_sm\n"
   ]
  },
  {
   "cell_type": "code",
   "execution_count": 2,
   "id": "3ef0c0ca",
   "metadata": {},
   "outputs": [
    {
     "data": {
      "text/html": [
       "\n",
       "        <iframe\n",
       "            width=\"1200\"\n",
       "            height=\"700\"\n",
       "            src=\"Scattertext_Founder_Feedback.html\"\n",
       "            frameborder=\"0\"\n",
       "            allowfullscreen\n",
       "            \n",
       "        ></iframe>\n",
       "        "
      ],
      "text/plain": [
       "<IPython.lib.display.IFrame at 0x7fad4369e850>"
      ]
     },
     "execution_count": 2,
     "metadata": {},
     "output_type": "execute_result"
    }
   ],
   "source": [
    "import pandas as pd\n",
    "import scattertext as st\n",
    "import spacy\n",
    "from IPython.display import IFrame\n",
    "\n",
    "# Load a SpaCy model\n",
    "nlp = spacy.load('en_core_web_sm')\n",
    "\n",
    "# Load your dataset\n",
    "df = pd.read_csv('Paragon_One.csv')\n",
    "\n",
    "# Ensure the column is not null and drop any rows with null entries\n",
    "feedback_column = df.iloc[:, 8].dropna()\n",
    "\n",
    "# Ensure the DataFrame 'data' has the same number of rows\n",
    "data = pd.DataFrame({\n",
    "    'text': feedback_column,\n",
    "    'category': ['Founder Feedback']*len(feedback_column)\n",
    "})\n",
    "\n",
    "# Check if the lengths are consistent\n",
    "assert len(data['text']) == len(data['category']), \"Data lengths are not consistent\"\n",
    "\n",
    "# Creating a Scattertext Corpus\n",
    "corpus = st.CorpusFromPandas(\n",
    "    data,\n",
    "    category_col='category',\n",
    "    text_col='text',\n",
    "    nlp=nlp\n",
    ").build()\n",
    "\n",
    "# Generating the Scattertext HTML Visualization\n",
    "html = st.produce_scattertext_explorer(\n",
    "    corpus,\n",
    "    category='Founder Feedback',\n",
    "    category_name='Founder Feedback',\n",
    "    not_category_name='Other',\n",
    "    minimum_term_frequency=0,\n",
    "    width_in_pixels=1000,\n",
    "    metadata=feedback_column\n",
    ")\n",
    "\n",
    "# Saving and displaying the visualization\n",
    "file_name = 'Scattertext_Founder_Feedback.html'\n",
    "with open(file_name, 'w') as f:\n",
    "    f.write(html)\n",
    "\n",
    "IFrame(src=file_name, width=1200, height=700)\n"
   ]
  },
  {
   "cell_type": "code",
   "execution_count": null,
   "id": "7483ce88",
   "metadata": {},
   "outputs": [],
   "source": []
  }
 ],
 "metadata": {
  "kernelspec": {
   "display_name": "Python 3 (ipykernel)",
   "language": "python",
   "name": "python3"
  },
  "language_info": {
   "codemirror_mode": {
    "name": "ipython",
    "version": 3
   },
   "file_extension": ".py",
   "mimetype": "text/x-python",
   "name": "python",
   "nbconvert_exporter": "python",
   "pygments_lexer": "ipython3",
   "version": "3.9.12"
  }
 },
 "nbformat": 4,
 "nbformat_minor": 5
}
